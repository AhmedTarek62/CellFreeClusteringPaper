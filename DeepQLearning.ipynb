{
 "cells": [
  {
   "cell_type": "markdown",
   "metadata": {},
   "source": [
    "## Imports"
   ]
  },
  {
   "cell_type": "code",
   "execution_count": 15,
   "metadata": {},
   "outputs": [
    {
     "name": "stdout",
     "output_type": "stream",
     "text": [
      "cuda\n"
     ]
    }
   ],
   "source": [
    "from collections import namedtuple, deque\n",
    "import random\n",
    "import math\n",
    "import torch\n",
    "import torch.nn as nn\n",
    "import torch.optim as optim\n",
    "import torch.nn.functional as F\n",
    "from CellFreeNetwork import CellFreeNetwork\n",
    "from SettingParams import mock_params\n",
    "import numpy as np\n",
    "import matplotlib\n",
    "import matplotlib.pyplot as plt\n",
    "\n",
    "# set up matplotlib\n",
    "is_ipython = 'inline' in matplotlib.get_backend()\n",
    "if is_ipython:\n",
    "    from IPython import display\n",
    "\n",
    "plt.ion()\n",
    "\n",
    "# if GPU is to be used\n",
    "device = torch.device(\"cuda\" if torch.cuda.is_available() else \"cpu\")\n",
    "print(device)"
   ]
  },
  {
   "cell_type": "markdown",
   "metadata": {
    "collapsed": true,
    "pycharm": {
     "is_executing": true
    }
   },
   "source": [
    "## Replay memory class"
   ]
  },
  {
   "cell_type": "code",
   "execution_count": 16,
   "metadata": {},
   "outputs": [],
   "source": [
    "Transition = namedtuple('Transition',\n",
    "                        ('state', 'action', 'next_state', 'reward'))\n",
    "\n",
    "class ReplayMemory(object):\n",
    "\n",
    "    def __init__(self, capacity):\n",
    "        self.memory = deque([], maxlen=capacity)\n",
    "\n",
    "    def push(self, *args):\n",
    "        \"\"\"Save a transition\"\"\"\n",
    "        self.memory.append(Transition(*args))\n",
    "\n",
    "    def sample(self, batch_size):\n",
    "        return random.sample(self.memory, batch_size)\n",
    "\n",
    "    def __len__(self):\n",
    "        return len(self.memory)"
   ]
  },
  {
   "cell_type": "markdown",
   "source": [
    "## Game Class"
   ],
   "metadata": {
    "collapsed": false
   }
  },
  {
   "cell_type": "code",
   "execution_count": 17,
   "outputs": [],
   "source": [
    "params = mock_params\n",
    "\n",
    "class ClusteringGame:\n",
    "    def __init__(self, num_users: int, num_aps: int, users_per_ap: int, network: CellFreeNetwork, alg: str):\n",
    "        self.num_users = num_users\n",
    "        self.num_aps = num_aps\n",
    "        self.users_per_ap = users_per_ap\n",
    "        self.num_actions = num_users * num_aps\n",
    "        self.network = network\n",
    "        self.all_actions = [i for i in range(num_actions)]\n",
    "        self.alg = alg\n",
    "        self.betas = None\n",
    "\n",
    "    def generate_episode(self):\n",
    "        self.network.generate_snapshot()\n",
    "        betas = 10 ** (self.network.channel_model.path_loss_shadowing/10)\n",
    "        self.betas = betas/np.max(betas)\n",
    "\n",
    "    def get_init_state(self):\n",
    "        \"\"\"\n",
    "        state description: ( user0_cluster, user1_cluster, ..., userK_cluster)\n",
    "        :return:\n",
    "        \"\"\"\n",
    "        return tuple(0 for _ in range(self.num_aps * self.num_users))\n",
    "\n",
    "    def sample_action(self):\n",
    "        return random.choice(self.all_actions)\n",
    "\n",
    "    def result(self, state, action):\n",
    "        mutable_state = list(state)\n",
    "        mutable_state[action] = 1\n",
    "        return tuple(mutable_state)\n",
    "\n",
    "    def get_clusters_from_state(self, state):\n",
    "        clusters = np.zeros((self.num_users, self.num_aps))\n",
    "        for user in range(self.num_users):\n",
    "            for ap in range(self.num_aps):\n",
    "                clusters[user, ap] = state[user * num_aps + ap]\n",
    "\n",
    "    def reward(self, state):\n",
    "        self.network.set_clusters(self.get_clusters_from_state(state))\n",
    "\n",
    "        num_frames = 50\n",
    "        collective_channels, _, _, _ = self.network.generate_channel_realizations(num_frames)\n",
    "        combiners = self.network.simulate_uplink_centralized(self.alg, collective_channels, collective_channels)\n",
    "        precoders = self.network.simulate_downlink_centralized(self.alg, collective_channels, collective_channels)\n",
    "        reward = \\\n",
    "            (self.network.compute_uplink_SE_centralized(collective_channels, combiners) +\n",
    "             self.network.compute_downlink_SE_centralized(collective_channels, precoders)\n",
    "             )/self.num_actions # average sum SE per UE\n",
    "        return reward\n",
    "\n",
    "    def terminal_test(self, state):\n",
    "        clusters = self.get_clusters_from_state(state)\n",
    "        return all(np.sum(clusters[:,ap]) == self.users_per_ap for ap in game.num_aps)\n",
    "\n",
    "\n",
    "    def string_representation(self, state):\n",
    "        return ''.join(state[i][j] for i in range(self.num_aps) for j in range(self.num_users))"
   ],
   "metadata": {
    "collapsed": false
   }
  },
  {
   "cell_type": "markdown",
   "source": [
    "### Initialize environment"
   ],
   "metadata": {
    "collapsed": false
   }
  },
  {
   "cell_type": "code",
   "execution_count": 18,
   "outputs": [],
   "source": [
    "num_users = params['num_users']\n",
    "num_aps = params['num_aps']\n",
    "num_actions = num_users * num_aps\n",
    "users_per_ap = params['pilot_len']\n",
    "alg = 'MMSE'\n",
    "game = ClusteringGame(num_users, num_aps, users_per_ap, CellFreeNetwork(**params), alg)"
   ],
   "metadata": {
    "collapsed": false
   }
  },
  {
   "cell_type": "markdown",
   "metadata": {},
   "source": [
    "## Neural Network"
   ]
  },
  {
   "cell_type": "code",
   "execution_count": 19,
   "metadata": {},
   "outputs": [],
   "source": [
    "class DQN(nn.Module):\n",
    "\n",
    "    def __init__(self, game: ClusteringGame):\n",
    "        super(DQN, self).__init__()\n",
    "        input_size = (game.num_aps * game.num_users) * 2\n",
    "        self.layer1 = nn.Linear(input_size, 128)\n",
    "        self.layer2 = nn.Linear(128, 128)\n",
    "        self.layer3 = nn.Linear(128, game.num_actions)\n",
    "\n",
    "    # Called with either one element to determine next action, or a batch\n",
    "    # during optimization. Returns tensor([[left0exp,right0exp]...]).\n",
    "    def forward(self, x):\n",
    "        x = F.relu(self.layer1(x))\n",
    "        x = F.relu(self.layer2(x))\n",
    "        return self.layer3(x)"
   ]
  },
  {
   "cell_type": "markdown",
   "metadata": {},
   "source": [
    "## Hyperparameters and helper functions"
   ]
  },
  {
   "cell_type": "code",
   "execution_count": 20,
   "metadata": {},
   "outputs": [],
   "source": [
    "# BATCH_SIZE is the number of transitions sampled from the replay buffer\n",
    "# GAMMA is the discount factor as mentioned in the previous section\n",
    "# EPS_START is the starting value of epsilon\n",
    "# EPS_END is the final value of epsilon\n",
    "# EPS_DECAY controls the rate of exponential decay of epsilon, higher means a slower decay\n",
    "# TAU is the update rate of the target network\n",
    "# LR is the learning rate of the ``AdamW`` optimizer\n",
    "BATCH_SIZE = 128\n",
    "GAMMA = 0.99\n",
    "EPS_START = 0.9\n",
    "EPS_END = 0.05\n",
    "EPS_DECAY = 1000\n",
    "TAU = 0.005\n",
    "LR = 1e-4\n",
    "\n",
    "policy_net = DQN(game).to(device)\n",
    "target_net = DQN(game).to(device)\n",
    "target_net.load_state_dict(policy_net.state_dict())\n",
    "\n",
    "optimizer = optim.AdamW(policy_net.parameters(), lr=LR, amsgrad=True)\n",
    "memory = ReplayMemory(10000)\n",
    "\n",
    "def select_action(game: ClusteringGame, state):\n",
    "    global steps_done\n",
    "    sample = random.random()\n",
    "    eps_threshold = EPS_END + (EPS_START - EPS_END) * \\\n",
    "        math.exp(-1. * steps_done / EPS_DECAY)\n",
    "    steps_done += 1\n",
    "    if sample > eps_threshold:\n",
    "        with torch.no_grad():\n",
    "            # t.max(1) will return the largest column value of each row.\n",
    "            # second column on max result is index of where max element was\n",
    "            # found, so we pick action with the larger expected reward.\n",
    "            return policy_net(state).max(1)[1].view(1, 1)\n",
    "    else:\n",
    "        return torch.tensor([[game.sample_action()]], device=device, dtype=torch.long)\n",
    "\n",
    "def create_network_state(game: ClusteringGame, state):\n",
    "    state_processed = [game.betas[i][j] for i in range(game.num_users) for j in range(num_aps)]\n",
    "    state_processed.extend([state[i][j] for i in range(game.num_aps) for j in range(game.num_users)])\n",
    "    return state_processed\n",
    "\n",
    "\n",
    "episode_rewards = []\n",
    "\n",
    "\n",
    "def plot_rewards(show_result=False):\n",
    "    plt.figure(1)\n",
    "    rewards_t = torch.tensor(episode_rewards, dtype=torch.float)\n",
    "    if show_result:\n",
    "        plt.title('Result')\n",
    "    else:\n",
    "        plt.clf()\n",
    "        plt.title('Training...')\n",
    "    plt.xlabel('Episode')\n",
    "    plt.ylabel('Reward')\n",
    "    plt.plot(rewards_t.numpy())\n",
    "    # Take 100 episode averages and plot them too\n",
    "    if len(rewards_t) >= 100:\n",
    "        means = rewards_t.unfold(0, 100, 1).mean(1).view(-1)\n",
    "        means = torch.cat((torch.zeros(99), means))\n",
    "        plt.plot(means.numpy())\n",
    "\n",
    "    plt.pause(0.001)  # pause a bit so that plots are updated\n",
    "    if is_ipython:\n",
    "        if not show_result:\n",
    "            display.display(plt.gcf())\n",
    "            display.clear_output(wait=True)\n",
    "        else:\n",
    "            display.display(plt.gcf())"
   ]
  },
  {
   "cell_type": "markdown",
   "source": [
    "## Model Optimization"
   ],
   "metadata": {
    "collapsed": false
   }
  },
  {
   "cell_type": "code",
   "execution_count": 21,
   "outputs": [],
   "source": [
    "def optimize_model():\n",
    "    if len(memory) < BATCH_SIZE:\n",
    "        return\n",
    "    transitions = memory.sample(BATCH_SIZE)\n",
    "    # Transpose the batch (see https://stackoverflow.com/a/19343/3343043 for\n",
    "    # detailed explanation). This converts batch-array of Transitions\n",
    "    # to Transition of batch-arrays.\n",
    "    batch = Transition(*zip(*transitions))\n",
    "\n",
    "    next_states = torch.cat([s for s in batch.next_state])\n",
    "    state_batch = torch.cat(batch.state)\n",
    "    action_batch = torch.cat(batch.action)\n",
    "    reward_batch = torch.cat(batch.reward)\n",
    "\n",
    "    # Compute Q(s_t, a) - the model computes Q(s_t), then we select the\n",
    "    # columns of actions taken. These are the actions which would've been taken\n",
    "    # for each batch state according to policy_net\n",
    "    state_action_values = policy_net(state_batch).gather(1, action_batch)\n",
    "\n",
    "    # Compute V(s_{t+1}) for all next states.\n",
    "    # Expected values of actions for non_final_next_states are computed based\n",
    "    # on the \"older\" target_net; selecting their best reward with max(1)[0].\n",
    "    # This is merged based on the mask, such that we'll have either the expected\n",
    "    # state value or 0 in case the state was final.\n",
    "    with torch.no_grad():\n",
    "        next_state_values = target_net(next_states, device=device).max(1)[0]\n",
    "    # Compute the expected Q values\n",
    "    expected_state_action_values = (next_state_values * GAMMA) + reward_batch\n",
    "\n",
    "    # Compute Huber loss\n",
    "    criterion = nn.SmoothL1Loss()\n",
    "    loss = criterion(state_action_values, expected_state_action_values.unsqueeze(1))\n",
    "\n",
    "    # Optimize the model\n",
    "    optimizer.zero_grad()\n",
    "    loss.backward()\n",
    "    # In-place gradient clipping\n",
    "    torch.nn.utils.clip_grad_value_(policy_net.parameters(), 100)\n",
    "    optimizer.step()"
   ],
   "metadata": {
    "collapsed": false
   }
  },
  {
   "cell_type": "markdown",
   "source": [
    "## Training Loop"
   ],
   "metadata": {
    "collapsed": false
   }
  },
  {
   "cell_type": "code",
   "execution_count": 22,
   "outputs": [
    {
     "ename": "TypeError",
     "evalue": "'int' object is not subscriptable",
     "output_type": "error",
     "traceback": [
      "\u001B[1;31m---------------------------------------------------------------------------\u001B[0m",
      "\u001B[1;31mTypeError\u001B[0m                                 Traceback (most recent call last)",
      "Cell \u001B[1;32mIn[22], line 7\u001B[0m\n\u001B[0;32m      5\u001B[0m game\u001B[38;5;241m.\u001B[39mgenerate_episode()\n\u001B[0;32m      6\u001B[0m state \u001B[38;5;241m=\u001B[39m game\u001B[38;5;241m.\u001B[39mget_init_state()\n\u001B[1;32m----> 7\u001B[0m state_t \u001B[38;5;241m=\u001B[39m torch\u001B[38;5;241m.\u001B[39mtensor(\u001B[43mcreate_network_state\u001B[49m\u001B[43m(\u001B[49m\u001B[43mgame\u001B[49m\u001B[43m,\u001B[49m\u001B[43mstate\u001B[49m\u001B[43m)\u001B[49m, dtype\u001B[38;5;241m=\u001B[39mtorch\u001B[38;5;241m.\u001B[39mfloat32, device\u001B[38;5;241m=\u001B[39mdevice)\u001B[38;5;241m.\u001B[39munsqueeze(\u001B[38;5;241m0\u001B[39m)\n\u001B[0;32m      8\u001B[0m \u001B[38;5;28;01mwhile\u001B[39;00m \u001B[38;5;28;01mTrue\u001B[39;00m:\n\u001B[0;32m      9\u001B[0m     action \u001B[38;5;241m=\u001B[39m select_action(game, state)\n",
      "Cell \u001B[1;32mIn[20], line 40\u001B[0m, in \u001B[0;36mcreate_network_state\u001B[1;34m(game, state)\u001B[0m\n\u001B[0;32m     38\u001B[0m \u001B[38;5;28;01mdef\u001B[39;00m \u001B[38;5;21mcreate_network_state\u001B[39m(game: ClusteringGame, state):\n\u001B[0;32m     39\u001B[0m     state_processed \u001B[38;5;241m=\u001B[39m [game\u001B[38;5;241m.\u001B[39mbetas[i][j] \u001B[38;5;28;01mfor\u001B[39;00m i \u001B[38;5;129;01min\u001B[39;00m \u001B[38;5;28mrange\u001B[39m(game\u001B[38;5;241m.\u001B[39mnum_users) \u001B[38;5;28;01mfor\u001B[39;00m j \u001B[38;5;129;01min\u001B[39;00m \u001B[38;5;28mrange\u001B[39m(num_aps)]\n\u001B[1;32m---> 40\u001B[0m     state_processed\u001B[38;5;241m.\u001B[39mextend([state[i][j] \u001B[38;5;28;01mfor\u001B[39;00m i \u001B[38;5;129;01min\u001B[39;00m \u001B[38;5;28mrange\u001B[39m(game\u001B[38;5;241m.\u001B[39mnum_aps) \u001B[38;5;28;01mfor\u001B[39;00m j \u001B[38;5;129;01min\u001B[39;00m \u001B[38;5;28mrange\u001B[39m(game\u001B[38;5;241m.\u001B[39mnum_users)])\n\u001B[0;32m     41\u001B[0m     \u001B[38;5;28;01mreturn\u001B[39;00m state_processed\n",
      "Cell \u001B[1;32mIn[20], line 40\u001B[0m, in \u001B[0;36m<listcomp>\u001B[1;34m(.0)\u001B[0m\n\u001B[0;32m     38\u001B[0m \u001B[38;5;28;01mdef\u001B[39;00m \u001B[38;5;21mcreate_network_state\u001B[39m(game: ClusteringGame, state):\n\u001B[0;32m     39\u001B[0m     state_processed \u001B[38;5;241m=\u001B[39m [game\u001B[38;5;241m.\u001B[39mbetas[i][j] \u001B[38;5;28;01mfor\u001B[39;00m i \u001B[38;5;129;01min\u001B[39;00m \u001B[38;5;28mrange\u001B[39m(game\u001B[38;5;241m.\u001B[39mnum_users) \u001B[38;5;28;01mfor\u001B[39;00m j \u001B[38;5;129;01min\u001B[39;00m \u001B[38;5;28mrange\u001B[39m(num_aps)]\n\u001B[1;32m---> 40\u001B[0m     state_processed\u001B[38;5;241m.\u001B[39mextend([\u001B[43mstate\u001B[49m\u001B[43m[\u001B[49m\u001B[43mi\u001B[49m\u001B[43m]\u001B[49m\u001B[43m[\u001B[49m\u001B[43mj\u001B[49m\u001B[43m]\u001B[49m \u001B[38;5;28;01mfor\u001B[39;00m i \u001B[38;5;129;01min\u001B[39;00m \u001B[38;5;28mrange\u001B[39m(game\u001B[38;5;241m.\u001B[39mnum_aps) \u001B[38;5;28;01mfor\u001B[39;00m j \u001B[38;5;129;01min\u001B[39;00m \u001B[38;5;28mrange\u001B[39m(game\u001B[38;5;241m.\u001B[39mnum_users)])\n\u001B[0;32m     41\u001B[0m     \u001B[38;5;28;01mreturn\u001B[39;00m state_processed\n",
      "\u001B[1;31mTypeError\u001B[0m: 'int' object is not subscriptable"
     ]
    }
   ],
   "source": [
    "num_episodes = 600\n",
    "\n",
    "for i_episode in range(num_episodes):\n",
    "    # Initialize the environment and get it's state\n",
    "    game.generate_episode()\n",
    "    state = game.get_init_state()\n",
    "    state_t = torch.tensor(create_network_state(game,state), dtype=torch.float32, device=device).unsqueeze(0)\n",
    "    while True:\n",
    "        action = select_action(game, state)\n",
    "        new_state = game.result(state, action)\n",
    "        reward = game.reward(new_state) - game.reward(state)\n",
    "        reward_t = torch.tensor([reward], device=device)\n",
    "        terminated = game.terminal_test(new_state)\n",
    "        next_state_t = torch.tensor(create_network_state(game,new_state), dtype=torch.float32, device=device).unsqueeze(0)\n",
    "\n",
    "        # Store the transition in memory\n",
    "        memory.push(state_t, action, next_state_t, reward_t)\n",
    "\n",
    "        # Move to the next state\n",
    "        state = new_state\n",
    "\n",
    "        # Perform one step of the optimization (on the policy network)\n",
    "        optimize_model()\n",
    "\n",
    "        # Soft update of the target network's weights\n",
    "        # θ′ ← τ θ + (1 −τ )θ′\n",
    "        target_net_state_dict = target_net.state_dict()\n",
    "        policy_net_state_dict = policy_net.state_dict()\n",
    "        for key in policy_net_state_dict:\n",
    "            target_net_state_dict[key] = policy_net_state_dict[key]*TAU + target_net_state_dict[key]*(1-TAU)\n",
    "        target_net.load_state_dict(target_net_state_dict)\n",
    "\n",
    "        if terminated:\n",
    "            episode_rewards.append(reward)\n",
    "            plot_rewards()\n",
    "            break\n",
    "\n",
    "print('Complete')\n",
    "plot_rewards(show_result=True)\n",
    "plt.ioff()\n",
    "plt.show()"
   ],
   "metadata": {
    "collapsed": false
   }
  }
 ],
 "metadata": {
  "kernelspec": {
   "display_name": "Python 3 (ipykernel)",
   "language": "python",
   "name": "python3"
  },
  "language_info": {
   "codemirror_mode": {
    "name": "ipython",
    "version": 3
   },
   "file_extension": ".py",
   "mimetype": "text/x-python",
   "name": "python",
   "nbconvert_exporter": "python",
   "pygments_lexer": "ipython3",
   "version": "3.9.13"
  }
 },
 "nbformat": 4,
 "nbformat_minor": 1
}
